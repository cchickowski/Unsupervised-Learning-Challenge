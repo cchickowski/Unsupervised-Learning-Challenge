{
 "cells": [
  {
   "cell_type": "code",
   "execution_count": 1,
   "metadata": {},
   "outputs": [],
   "source": [
    "from sklearn.manifold import TSNE\n",
    "from sklearn.decomposition import PCA\n",
    "from sklearn.cluster import KMeans\n",
    "from sklearn.preprocessing import StandardScaler, MinMaxScaler\n",
    "import matplotlib.pyplot as plt\n",
    "import pandas as pd\n",
    "from pathlib import Path"
   ]
  },
  {
   "cell_type": "markdown",
   "metadata": {},
   "source": [
    "Step 1: Data Preparation"
   ]
  },
  {
   "cell_type": "code",
   "execution_count": 2,
   "metadata": {},
   "outputs": [],
   "source": [
    "# Pull in cryto file and inspect\n",
    "file_path = 'Resources/crypto_data.csv'"
   ]
  },
  {
   "cell_type": "code",
   "execution_count": 3,
   "metadata": {},
   "outputs": [
    {
     "data": {
      "text/html": [
       "<div>\n",
       "<style scoped>\n",
       "    .dataframe tbody tr th:only-of-type {\n",
       "        vertical-align: middle;\n",
       "    }\n",
       "\n",
       "    .dataframe tbody tr th {\n",
       "        vertical-align: top;\n",
       "    }\n",
       "\n",
       "    .dataframe thead th {\n",
       "        text-align: right;\n",
       "    }\n",
       "</style>\n",
       "<table border=\"1\" class=\"dataframe\">\n",
       "  <thead>\n",
       "    <tr style=\"text-align: right;\">\n",
       "      <th></th>\n",
       "      <th>CoinName</th>\n",
       "      <th>Algorithm</th>\n",
       "      <th>IsTrading</th>\n",
       "      <th>ProofType</th>\n",
       "      <th>TotalCoinsMined</th>\n",
       "      <th>TotalCoinSupply</th>\n",
       "    </tr>\n",
       "  </thead>\n",
       "  <tbody>\n",
       "    <tr>\n",
       "      <th>42</th>\n",
       "      <td>42 Coin</td>\n",
       "      <td>Scrypt</td>\n",
       "      <td>True</td>\n",
       "      <td>PoW/PoS</td>\n",
       "      <td>4.199995e+01</td>\n",
       "      <td>42</td>\n",
       "    </tr>\n",
       "    <tr>\n",
       "      <th>365</th>\n",
       "      <td>365Coin</td>\n",
       "      <td>X11</td>\n",
       "      <td>True</td>\n",
       "      <td>PoW/PoS</td>\n",
       "      <td>NaN</td>\n",
       "      <td>2300000000</td>\n",
       "    </tr>\n",
       "    <tr>\n",
       "      <th>404</th>\n",
       "      <td>404Coin</td>\n",
       "      <td>Scrypt</td>\n",
       "      <td>True</td>\n",
       "      <td>PoW/PoS</td>\n",
       "      <td>1.055185e+09</td>\n",
       "      <td>532000000</td>\n",
       "    </tr>\n",
       "    <tr>\n",
       "      <th>611</th>\n",
       "      <td>SixEleven</td>\n",
       "      <td>SHA-256</td>\n",
       "      <td>True</td>\n",
       "      <td>PoW</td>\n",
       "      <td>NaN</td>\n",
       "      <td>611000</td>\n",
       "    </tr>\n",
       "    <tr>\n",
       "      <th>808</th>\n",
       "      <td>808</td>\n",
       "      <td>SHA-256</td>\n",
       "      <td>True</td>\n",
       "      <td>PoW/PoS</td>\n",
       "      <td>0.000000e+00</td>\n",
       "      <td>0</td>\n",
       "    </tr>\n",
       "  </tbody>\n",
       "</table>\n",
       "</div>"
      ],
      "text/plain": [
       "      CoinName Algorithm  IsTrading ProofType  TotalCoinsMined TotalCoinSupply\n",
       "42     42 Coin    Scrypt       True   PoW/PoS     4.199995e+01              42\n",
       "365    365Coin       X11       True   PoW/PoS              NaN      2300000000\n",
       "404    404Coin    Scrypt       True   PoW/PoS     1.055185e+09       532000000\n",
       "611  SixEleven   SHA-256       True       PoW              NaN          611000\n",
       "808        808   SHA-256       True   PoW/PoS     0.000000e+00               0"
      ]
     },
     "execution_count": 3,
     "metadata": {},
     "output_type": "execute_result"
    }
   ],
   "source": [
    "crypto_df = pd.read_csv(file_path, index_col=0)\n",
    "crypto_df.head()"
   ]
  },
  {
   "cell_type": "code",
   "execution_count": 4,
   "metadata": {},
   "outputs": [
    {
     "data": {
      "text/plain": [
       "<bound method DataFrame.info of             CoinName Algorithm  IsTrading ProofType  TotalCoinsMined  \\\n",
       "42           42 Coin    Scrypt       True   PoW/PoS     4.199995e+01   \n",
       "365          365Coin       X11       True   PoW/PoS              NaN   \n",
       "404          404Coin    Scrypt       True   PoW/PoS     1.055185e+09   \n",
       "611        SixEleven   SHA-256       True       PoW              NaN   \n",
       "808              808   SHA-256       True   PoW/PoS     0.000000e+00   \n",
       "...              ...       ...        ...       ...              ...   \n",
       "XBC      BitcoinPlus    Scrypt       True       PoS     1.283270e+05   \n",
       "DVTC      DivotyCoin    Scrypt      False   PoW/PoS     2.149121e+07   \n",
       "GIOT     Giotto Coin    Scrypt      False   PoW/PoS              NaN   \n",
       "OPSC  OpenSourceCoin   SHA-256      False   PoW/PoS              NaN   \n",
       "PUNK       SteamPunk       PoS      False       PoS              NaN   \n",
       "\n",
       "     TotalCoinSupply  \n",
       "42                42  \n",
       "365       2300000000  \n",
       "404        532000000  \n",
       "611           611000  \n",
       "808                0  \n",
       "...              ...  \n",
       "XBC          1000000  \n",
       "DVTC       100000000  \n",
       "GIOT       233100000  \n",
       "OPSC        21000000  \n",
       "PUNK        40000000  \n",
       "\n",
       "[1252 rows x 6 columns]>"
      ]
     },
     "execution_count": 4,
     "metadata": {},
     "output_type": "execute_result"
    }
   ],
   "source": [
    "crypto_df.info"
   ]
  },
  {
   "cell_type": "code",
   "execution_count": 5,
   "metadata": {},
   "outputs": [
    {
     "data": {
      "text/html": [
       "<div>\n",
       "<style scoped>\n",
       "    .dataframe tbody tr th:only-of-type {\n",
       "        vertical-align: middle;\n",
       "    }\n",
       "\n",
       "    .dataframe tbody tr th {\n",
       "        vertical-align: top;\n",
       "    }\n",
       "\n",
       "    .dataframe thead th {\n",
       "        text-align: right;\n",
       "    }\n",
       "</style>\n",
       "<table border=\"1\" class=\"dataframe\">\n",
       "  <thead>\n",
       "    <tr style=\"text-align: right;\">\n",
       "      <th></th>\n",
       "      <th>CoinName</th>\n",
       "      <th>Algorithm</th>\n",
       "      <th>IsTrading</th>\n",
       "      <th>ProofType</th>\n",
       "      <th>TotalCoinsMined</th>\n",
       "      <th>TotalCoinSupply</th>\n",
       "    </tr>\n",
       "  </thead>\n",
       "  <tbody>\n",
       "    <tr>\n",
       "      <th>42</th>\n",
       "      <td>42 Coin</td>\n",
       "      <td>Scrypt</td>\n",
       "      <td>True</td>\n",
       "      <td>PoW/PoS</td>\n",
       "      <td>4.199995e+01</td>\n",
       "      <td>42</td>\n",
       "    </tr>\n",
       "    <tr>\n",
       "      <th>365</th>\n",
       "      <td>365Coin</td>\n",
       "      <td>X11</td>\n",
       "      <td>True</td>\n",
       "      <td>PoW/PoS</td>\n",
       "      <td>NaN</td>\n",
       "      <td>2300000000</td>\n",
       "    </tr>\n",
       "    <tr>\n",
       "      <th>404</th>\n",
       "      <td>404Coin</td>\n",
       "      <td>Scrypt</td>\n",
       "      <td>True</td>\n",
       "      <td>PoW/PoS</td>\n",
       "      <td>1.055185e+09</td>\n",
       "      <td>532000000</td>\n",
       "    </tr>\n",
       "    <tr>\n",
       "      <th>611</th>\n",
       "      <td>SixEleven</td>\n",
       "      <td>SHA-256</td>\n",
       "      <td>True</td>\n",
       "      <td>PoW</td>\n",
       "      <td>NaN</td>\n",
       "      <td>611000</td>\n",
       "    </tr>\n",
       "    <tr>\n",
       "      <th>808</th>\n",
       "      <td>808</td>\n",
       "      <td>SHA-256</td>\n",
       "      <td>True</td>\n",
       "      <td>PoW/PoS</td>\n",
       "      <td>0.000000e+00</td>\n",
       "      <td>0</td>\n",
       "    </tr>\n",
       "  </tbody>\n",
       "</table>\n",
       "</div>"
      ],
      "text/plain": [
       "      CoinName Algorithm  IsTrading ProofType  TotalCoinsMined TotalCoinSupply\n",
       "42     42 Coin    Scrypt       True   PoW/PoS     4.199995e+01              42\n",
       "365    365Coin       X11       True   PoW/PoS              NaN      2300000000\n",
       "404    404Coin    Scrypt       True   PoW/PoS     1.055185e+09       532000000\n",
       "611  SixEleven   SHA-256       True       PoW              NaN          611000\n",
       "808        808   SHA-256       True   PoW/PoS     0.000000e+00               0"
      ]
     },
     "execution_count": 5,
     "metadata": {},
     "output_type": "execute_result"
    }
   ],
   "source": [
    "# Remove all crypto not being traded\n",
    "crypto_df = crypto_df[crypto_df.IsTrading != 0]\n",
    "crypto_df.head()"
   ]
  },
  {
   "cell_type": "code",
   "execution_count": 6,
   "metadata": {},
   "outputs": [
    {
     "name": "stdout",
     "output_type": "stream",
     "text": [
      "<class 'pandas.core.frame.DataFrame'>\n",
      "Index: 1144 entries, 42 to XBC\n",
      "Data columns (total 6 columns):\n",
      " #   Column           Non-Null Count  Dtype  \n",
      "---  ------           --------------  -----  \n",
      " 0   CoinName         1144 non-null   object \n",
      " 1   Algorithm        1144 non-null   object \n",
      " 2   IsTrading        1144 non-null   bool   \n",
      " 3   ProofType        1144 non-null   object \n",
      " 4   TotalCoinsMined  685 non-null    float64\n",
      " 5   TotalCoinSupply  1144 non-null   object \n",
      "dtypes: bool(1), float64(1), object(4)\n",
      "memory usage: 54.7+ KB\n"
     ]
    }
   ],
   "source": [
    "crypto_df.info()"
   ]
  },
  {
   "cell_type": "code",
   "execution_count": 7,
   "metadata": {},
   "outputs": [
    {
     "data": {
      "text/html": [
       "<div>\n",
       "<style scoped>\n",
       "    .dataframe tbody tr th:only-of-type {\n",
       "        vertical-align: middle;\n",
       "    }\n",
       "\n",
       "    .dataframe tbody tr th {\n",
       "        vertical-align: top;\n",
       "    }\n",
       "\n",
       "    .dataframe thead th {\n",
       "        text-align: right;\n",
       "    }\n",
       "</style>\n",
       "<table border=\"1\" class=\"dataframe\">\n",
       "  <thead>\n",
       "    <tr style=\"text-align: right;\">\n",
       "      <th></th>\n",
       "      <th>CoinName</th>\n",
       "      <th>Algorithm</th>\n",
       "      <th>ProofType</th>\n",
       "      <th>TotalCoinsMined</th>\n",
       "      <th>TotalCoinSupply</th>\n",
       "    </tr>\n",
       "  </thead>\n",
       "  <tbody>\n",
       "    <tr>\n",
       "      <th>42</th>\n",
       "      <td>42 Coin</td>\n",
       "      <td>Scrypt</td>\n",
       "      <td>PoW/PoS</td>\n",
       "      <td>4.199995e+01</td>\n",
       "      <td>42</td>\n",
       "    </tr>\n",
       "    <tr>\n",
       "      <th>365</th>\n",
       "      <td>365Coin</td>\n",
       "      <td>X11</td>\n",
       "      <td>PoW/PoS</td>\n",
       "      <td>NaN</td>\n",
       "      <td>2300000000</td>\n",
       "    </tr>\n",
       "    <tr>\n",
       "      <th>404</th>\n",
       "      <td>404Coin</td>\n",
       "      <td>Scrypt</td>\n",
       "      <td>PoW/PoS</td>\n",
       "      <td>1.055185e+09</td>\n",
       "      <td>532000000</td>\n",
       "    </tr>\n",
       "    <tr>\n",
       "      <th>611</th>\n",
       "      <td>SixEleven</td>\n",
       "      <td>SHA-256</td>\n",
       "      <td>PoW</td>\n",
       "      <td>NaN</td>\n",
       "      <td>611000</td>\n",
       "    </tr>\n",
       "    <tr>\n",
       "      <th>808</th>\n",
       "      <td>808</td>\n",
       "      <td>SHA-256</td>\n",
       "      <td>PoW/PoS</td>\n",
       "      <td>0.000000e+00</td>\n",
       "      <td>0</td>\n",
       "    </tr>\n",
       "  </tbody>\n",
       "</table>\n",
       "</div>"
      ],
      "text/plain": [
       "      CoinName Algorithm ProofType  TotalCoinsMined TotalCoinSupply\n",
       "42     42 Coin    Scrypt   PoW/PoS     4.199995e+01              42\n",
       "365    365Coin       X11   PoW/PoS              NaN      2300000000\n",
       "404    404Coin    Scrypt   PoW/PoS     1.055185e+09       532000000\n",
       "611  SixEleven   SHA-256       PoW              NaN          611000\n",
       "808        808   SHA-256   PoW/PoS     0.000000e+00               0"
      ]
     },
     "execution_count": 7,
     "metadata": {},
     "output_type": "execute_result"
    }
   ],
   "source": [
    "# Remove IsTrading column\n",
    "crypto_df = crypto_df.drop(columns=\"IsTrading\")\n",
    "crypto_df.head()"
   ]
  },
  {
   "cell_type": "code",
   "execution_count": 8,
   "metadata": {},
   "outputs": [
    {
     "data": {
      "text/plain": [
       "CoinName             0\n",
       "Algorithm            0\n",
       "ProofType            0\n",
       "TotalCoinsMined    459\n",
       "TotalCoinSupply      0\n",
       "dtype: int64"
      ]
     },
     "execution_count": 8,
     "metadata": {},
     "output_type": "execute_result"
    }
   ],
   "source": [
    "# Remove rows with null values\n",
    "crypto_df.isnull().sum()"
   ]
  },
  {
   "cell_type": "code",
   "execution_count": 9,
   "metadata": {},
   "outputs": [
    {
     "data": {
      "text/plain": [
       "CoinName           0\n",
       "Algorithm          0\n",
       "ProofType          0\n",
       "TotalCoinsMined    0\n",
       "TotalCoinSupply    0\n",
       "dtype: int64"
      ]
     },
     "execution_count": 9,
     "metadata": {},
     "output_type": "execute_result"
    }
   ],
   "source": [
    "crypto_df = crypto_df.dropna()\n",
    "crypto_df.isnull().sum()"
   ]
  },
  {
   "cell_type": "code",
   "execution_count": 10,
   "metadata": {},
   "outputs": [
    {
     "data": {
      "text/html": [
       "<div>\n",
       "<style scoped>\n",
       "    .dataframe tbody tr th:only-of-type {\n",
       "        vertical-align: middle;\n",
       "    }\n",
       "\n",
       "    .dataframe tbody tr th {\n",
       "        vertical-align: top;\n",
       "    }\n",
       "\n",
       "    .dataframe thead th {\n",
       "        text-align: right;\n",
       "    }\n",
       "</style>\n",
       "<table border=\"1\" class=\"dataframe\">\n",
       "  <thead>\n",
       "    <tr style=\"text-align: right;\">\n",
       "      <th></th>\n",
       "      <th>CoinName</th>\n",
       "      <th>Algorithm</th>\n",
       "      <th>ProofType</th>\n",
       "      <th>TotalCoinsMined</th>\n",
       "      <th>TotalCoinSupply</th>\n",
       "    </tr>\n",
       "  </thead>\n",
       "  <tbody>\n",
       "    <tr>\n",
       "      <th>42</th>\n",
       "      <td>42 Coin</td>\n",
       "      <td>Scrypt</td>\n",
       "      <td>PoW/PoS</td>\n",
       "      <td>4.199995e+01</td>\n",
       "      <td>42</td>\n",
       "    </tr>\n",
       "    <tr>\n",
       "      <th>404</th>\n",
       "      <td>404Coin</td>\n",
       "      <td>Scrypt</td>\n",
       "      <td>PoW/PoS</td>\n",
       "      <td>1.055185e+09</td>\n",
       "      <td>532000000</td>\n",
       "    </tr>\n",
       "    <tr>\n",
       "      <th>1337</th>\n",
       "      <td>EliteCoin</td>\n",
       "      <td>X13</td>\n",
       "      <td>PoW/PoS</td>\n",
       "      <td>2.927942e+10</td>\n",
       "      <td>314159265359</td>\n",
       "    </tr>\n",
       "    <tr>\n",
       "      <th>BTC</th>\n",
       "      <td>Bitcoin</td>\n",
       "      <td>SHA-256</td>\n",
       "      <td>PoW</td>\n",
       "      <td>1.792718e+07</td>\n",
       "      <td>21000000</td>\n",
       "    </tr>\n",
       "    <tr>\n",
       "      <th>ETH</th>\n",
       "      <td>Ethereum</td>\n",
       "      <td>Ethash</td>\n",
       "      <td>PoW</td>\n",
       "      <td>1.076842e+08</td>\n",
       "      <td>0</td>\n",
       "    </tr>\n",
       "  </tbody>\n",
       "</table>\n",
       "</div>"
      ],
      "text/plain": [
       "       CoinName Algorithm ProofType  TotalCoinsMined TotalCoinSupply\n",
       "42      42 Coin    Scrypt   PoW/PoS     4.199995e+01              42\n",
       "404     404Coin    Scrypt   PoW/PoS     1.055185e+09       532000000\n",
       "1337  EliteCoin       X13   PoW/PoS     2.927942e+10    314159265359\n",
       "BTC     Bitcoin   SHA-256       PoW     1.792718e+07        21000000\n",
       "ETH    Ethereum    Ethash       PoW     1.076842e+08               0"
      ]
     },
     "execution_count": 10,
     "metadata": {},
     "output_type": "execute_result"
    }
   ],
   "source": [
    "# Filter for crypto only having coins mined\n",
    "crypto_df = crypto_df.loc[crypto_df['TotalCoinsMined'] != 0]\n",
    "crypto_df.head()"
   ]
  },
  {
   "cell_type": "code",
   "execution_count": 11,
   "metadata": {},
   "outputs": [
    {
     "data": {
      "text/html": [
       "<div>\n",
       "<style scoped>\n",
       "    .dataframe tbody tr th:only-of-type {\n",
       "        vertical-align: middle;\n",
       "    }\n",
       "\n",
       "    .dataframe tbody tr th {\n",
       "        vertical-align: top;\n",
       "    }\n",
       "\n",
       "    .dataframe thead th {\n",
       "        text-align: right;\n",
       "    }\n",
       "</style>\n",
       "<table border=\"1\" class=\"dataframe\">\n",
       "  <thead>\n",
       "    <tr style=\"text-align: right;\">\n",
       "      <th></th>\n",
       "      <th>CoinName</th>\n",
       "    </tr>\n",
       "  </thead>\n",
       "  <tbody>\n",
       "    <tr>\n",
       "      <th>42</th>\n",
       "      <td>42 Coin</td>\n",
       "    </tr>\n",
       "    <tr>\n",
       "      <th>404</th>\n",
       "      <td>404Coin</td>\n",
       "    </tr>\n",
       "    <tr>\n",
       "      <th>1337</th>\n",
       "      <td>EliteCoin</td>\n",
       "    </tr>\n",
       "    <tr>\n",
       "      <th>BTC</th>\n",
       "      <td>Bitcoin</td>\n",
       "    </tr>\n",
       "    <tr>\n",
       "      <th>ETH</th>\n",
       "      <td>Ethereum</td>\n",
       "    </tr>\n",
       "  </tbody>\n",
       "</table>\n",
       "</div>"
      ],
      "text/plain": [
       "       CoinName\n",
       "42      42 Coin\n",
       "404     404Coin\n",
       "1337  EliteCoin\n",
       "BTC     Bitcoin\n",
       "ETH    Ethereum"
      ]
     },
     "execution_count": 11,
     "metadata": {},
     "output_type": "execute_result"
    }
   ],
   "source": [
    "# Save cryto names into a separate df before removing\n",
    "crypto_names_df = pd.DataFrame(crypto_df.CoinName)\n",
    "crypto_names_df.head()"
   ]
  },
  {
   "cell_type": "code",
   "execution_count": 12,
   "metadata": {},
   "outputs": [
    {
     "data": {
      "text/html": [
       "<div>\n",
       "<style scoped>\n",
       "    .dataframe tbody tr th:only-of-type {\n",
       "        vertical-align: middle;\n",
       "    }\n",
       "\n",
       "    .dataframe tbody tr th {\n",
       "        vertical-align: top;\n",
       "    }\n",
       "\n",
       "    .dataframe thead th {\n",
       "        text-align: right;\n",
       "    }\n",
       "</style>\n",
       "<table border=\"1\" class=\"dataframe\">\n",
       "  <thead>\n",
       "    <tr style=\"text-align: right;\">\n",
       "      <th></th>\n",
       "      <th>Algorithm</th>\n",
       "      <th>ProofType</th>\n",
       "      <th>TotalCoinsMined</th>\n",
       "      <th>TotalCoinSupply</th>\n",
       "    </tr>\n",
       "  </thead>\n",
       "  <tbody>\n",
       "    <tr>\n",
       "      <th>42</th>\n",
       "      <td>Scrypt</td>\n",
       "      <td>PoW/PoS</td>\n",
       "      <td>4.199995e+01</td>\n",
       "      <td>42</td>\n",
       "    </tr>\n",
       "    <tr>\n",
       "      <th>404</th>\n",
       "      <td>Scrypt</td>\n",
       "      <td>PoW/PoS</td>\n",
       "      <td>1.055185e+09</td>\n",
       "      <td>532000000</td>\n",
       "    </tr>\n",
       "    <tr>\n",
       "      <th>1337</th>\n",
       "      <td>X13</td>\n",
       "      <td>PoW/PoS</td>\n",
       "      <td>2.927942e+10</td>\n",
       "      <td>314159265359</td>\n",
       "    </tr>\n",
       "    <tr>\n",
       "      <th>BTC</th>\n",
       "      <td>SHA-256</td>\n",
       "      <td>PoW</td>\n",
       "      <td>1.792718e+07</td>\n",
       "      <td>21000000</td>\n",
       "    </tr>\n",
       "    <tr>\n",
       "      <th>ETH</th>\n",
       "      <td>Ethash</td>\n",
       "      <td>PoW</td>\n",
       "      <td>1.076842e+08</td>\n",
       "      <td>0</td>\n",
       "    </tr>\n",
       "  </tbody>\n",
       "</table>\n",
       "</div>"
      ],
      "text/plain": [
       "     Algorithm ProofType  TotalCoinsMined TotalCoinSupply\n",
       "42      Scrypt   PoW/PoS     4.199995e+01              42\n",
       "404     Scrypt   PoW/PoS     1.055185e+09       532000000\n",
       "1337       X13   PoW/PoS     2.927942e+10    314159265359\n",
       "BTC    SHA-256       PoW     1.792718e+07        21000000\n",
       "ETH     Ethash       PoW     1.076842e+08               0"
      ]
     },
     "execution_count": 12,
     "metadata": {},
     "output_type": "execute_result"
    }
   ],
   "source": [
    "# Remove CoinName column\n",
    "crypto_df = crypto_df.drop(columns=\"CoinName\")\n",
    "crypto_df.head()"
   ]
  },
  {
   "cell_type": "code",
   "execution_count": 13,
   "metadata": {},
   "outputs": [
    {
     "name": "stdout",
     "output_type": "stream",
     "text": [
      "<class 'pandas.core.frame.DataFrame'>\n",
      "Index: 533 entries, 42 to XBC\n",
      "Data columns (total 100 columns):\n",
      " #   Column                            Non-Null Count  Dtype  \n",
      "---  ------                            --------------  -----  \n",
      " 0   TotalCoinsMined                   533 non-null    float64\n",
      " 1   TotalCoinSupply                   533 non-null    object \n",
      " 2   Algorithm_1GB AES Pattern Search  533 non-null    uint8  \n",
      " 3   Algorithm_536                     533 non-null    uint8  \n",
      " 4   Algorithm_Argon2d                 533 non-null    uint8  \n",
      " 5   Algorithm_BLAKE256                533 non-null    uint8  \n",
      " 6   Algorithm_Blake                   533 non-null    uint8  \n",
      " 7   Algorithm_Blake2S                 533 non-null    uint8  \n",
      " 8   Algorithm_Blake2b                 533 non-null    uint8  \n",
      " 9   Algorithm_C11                     533 non-null    uint8  \n",
      " 10  Algorithm_Cloverhash              533 non-null    uint8  \n",
      " 11  Algorithm_Counterparty            533 non-null    uint8  \n",
      " 12  Algorithm_CryptoNight             533 non-null    uint8  \n",
      " 13  Algorithm_CryptoNight Heavy       533 non-null    uint8  \n",
      " 14  Algorithm_CryptoNight-V7          533 non-null    uint8  \n",
      " 15  Algorithm_Cryptonight-GPU         533 non-null    uint8  \n",
      " 16  Algorithm_DPoS                    533 non-null    uint8  \n",
      " 17  Algorithm_Dagger                  533 non-null    uint8  \n",
      " 18  Algorithm_Dagger-Hashimoto        533 non-null    uint8  \n",
      " 19  Algorithm_ECC 256K1               533 non-null    uint8  \n",
      " 20  Algorithm_Equihash                533 non-null    uint8  \n",
      " 21  Algorithm_Equihash+Scrypt         533 non-null    uint8  \n",
      " 22  Algorithm_Ethash                  533 non-null    uint8  \n",
      " 23  Algorithm_Exosis                  533 non-null    uint8  \n",
      " 24  Algorithm_Green Protocol          533 non-null    uint8  \n",
      " 25  Algorithm_Groestl                 533 non-null    uint8  \n",
      " 26  Algorithm_HMQ1725                 533 non-null    uint8  \n",
      " 27  Algorithm_HybridScryptHash256     533 non-null    uint8  \n",
      " 28  Algorithm_IMesh                   533 non-null    uint8  \n",
      " 29  Algorithm_Jump Consistent Hash    533 non-null    uint8  \n",
      " 30  Algorithm_Keccak                  533 non-null    uint8  \n",
      " 31  Algorithm_Leased POS              533 non-null    uint8  \n",
      " 32  Algorithm_Lyra2RE                 533 non-null    uint8  \n",
      " 33  Algorithm_Lyra2REv2               533 non-null    uint8  \n",
      " 34  Algorithm_Lyra2Z                  533 non-null    uint8  \n",
      " 35  Algorithm_M7 POW                  533 non-null    uint8  \n",
      " 36  Algorithm_Multiple                533 non-null    uint8  \n",
      " 37  Algorithm_NIST5                   533 non-null    uint8  \n",
      " 38  Algorithm_NeoScrypt               533 non-null    uint8  \n",
      " 39  Algorithm_Ouroboros               533 non-null    uint8  \n",
      " 40  Algorithm_PHI1612                 533 non-null    uint8  \n",
      " 41  Algorithm_POS 2.0                 533 non-null    uint8  \n",
      " 42  Algorithm_POS 3.0                 533 non-null    uint8  \n",
      " 43  Algorithm_PoS                     533 non-null    uint8  \n",
      " 44  Algorithm_Proof-of-Authority      533 non-null    uint8  \n",
      " 45  Algorithm_Proof-of-BibleHash      533 non-null    uint8  \n",
      " 46  Algorithm_QUAIT                   533 non-null    uint8  \n",
      " 47  Algorithm_QuBit                   533 non-null    uint8  \n",
      " 48  Algorithm_Quark                   533 non-null    uint8  \n",
      " 49  Algorithm_SHA-256                 533 non-null    uint8  \n",
      " 50  Algorithm_SHA-256 + Hive          533 non-null    uint8  \n",
      " 51  Algorithm_SHA-256D                533 non-null    uint8  \n",
      " 52  Algorithm_SHA-512                 533 non-null    uint8  \n",
      " 53  Algorithm_SHA3                    533 non-null    uint8  \n",
      " 54  Algorithm_SHA3-256                533 non-null    uint8  \n",
      " 55  Algorithm_Scrypt                  533 non-null    uint8  \n",
      " 56  Algorithm_Semux BFT consensus     533 non-null    uint8  \n",
      " 57  Algorithm_Shabal256               533 non-null    uint8  \n",
      " 58  Algorithm_Skein                   533 non-null    uint8  \n",
      " 59  Algorithm_SkunkHash               533 non-null    uint8  \n",
      " 60  Algorithm_SkunkHash v2 Raptor     533 non-null    uint8  \n",
      " 61  Algorithm_Stanford Folding        533 non-null    uint8  \n",
      " 62  Algorithm_TRC10                   533 non-null    uint8  \n",
      " 63  Algorithm_Time Travel             533 non-null    uint8  \n",
      " 64  Algorithm_Tribus                  533 non-null    uint8  \n",
      " 65  Algorithm_VBFT                    533 non-null    uint8  \n",
      " 66  Algorithm_VeChainThor Authority   533 non-null    uint8  \n",
      " 67  Algorithm_X11                     533 non-null    uint8  \n",
      " 68  Algorithm_X11GOST                 533 non-null    uint8  \n",
      " 69  Algorithm_X13                     533 non-null    uint8  \n",
      " 70  Algorithm_X14                     533 non-null    uint8  \n",
      " 71  Algorithm_X15                     533 non-null    uint8  \n",
      " 72  Algorithm_X16R                    533 non-null    uint8  \n",
      " 73  Algorithm_XEVAN                   533 non-null    uint8  \n",
      " 74  ProofType_DPOS                    533 non-null    uint8  \n",
      " 75  ProofType_DPoC                    533 non-null    uint8  \n",
      " 76  ProofType_DPoS                    533 non-null    uint8  \n",
      " 77  ProofType_HPoW                    533 non-null    uint8  \n",
      " 78  ProofType_LPoS                    533 non-null    uint8  \n",
      " 79  ProofType_POBh                    533 non-null    uint8  \n",
      " 80  ProofType_PoA                     533 non-null    uint8  \n",
      " 81  ProofType_PoC                     533 non-null    uint8  \n",
      " 82  ProofType_PoS                     533 non-null    uint8  \n",
      " 83  ProofType_PoS/LPoS                533 non-null    uint8  \n",
      " 84  ProofType_PoS/PoW                 533 non-null    uint8  \n",
      " 85  ProofType_PoS/PoW/PoT             533 non-null    uint8  \n",
      " 86  ProofType_PoST                    533 non-null    uint8  \n",
      " 87  ProofType_PoW                     533 non-null    uint8  \n",
      " 88  ProofType_PoW + Hive              533 non-null    uint8  \n",
      " 89  ProofType_PoW and PoS             533 non-null    uint8  \n",
      " 90  ProofType_PoW/PoS                 533 non-null    uint8  \n",
      " 91  ProofType_PoW/PoS                 533 non-null    uint8  \n",
      " 92  ProofType_PoW/PoW                 533 non-null    uint8  \n",
      " 93  ProofType_PoW/nPoS                533 non-null    uint8  \n",
      " 94  ProofType_Pos                     533 non-null    uint8  \n",
      " 95  ProofType_Proof of Authority      533 non-null    uint8  \n",
      " 96  ProofType_Proof of Trust          533 non-null    uint8  \n",
      " 97  ProofType_TPoS                    533 non-null    uint8  \n",
      " 98  ProofType_Zero-Knowledge Proof    533 non-null    uint8  \n",
      " 99  ProofType_dPoW/PoW                533 non-null    uint8  \n",
      "dtypes: float64(1), object(1), uint8(98)\n",
      "memory usage: 63.5+ KB\n"
     ]
    }
   ],
   "source": [
    "# convert text columns Algorithm and ProofType to numeric\n",
    "X = pd.get_dummies(crypto_df, columns=[\"Algorithm\", \"ProofType\"])\n",
    "X.info()"
   ]
  },
  {
   "cell_type": "code",
   "execution_count": 14,
   "metadata": {},
   "outputs": [
    {
     "data": {
      "text/plain": [
       "array([[-0.11674788, -0.15286468, -0.0433555 , -0.0433555 , -0.0433555 ,\n",
       "        -0.06137164, -0.07523548, -0.0433555 , -0.06137164, -0.06137164,\n",
       "        -0.0433555 , -0.0433555 , -0.19226279, -0.06137164, -0.09731237,\n",
       "        -0.0433555 , -0.11536024, -0.07523548, -0.0433555 , -0.0433555 ,\n",
       "        -0.15176505, -0.0433555 , -0.13105561, -0.0433555 , -0.0433555 ,\n",
       "        -0.08695652, -0.0433555 , -0.0433555 , -0.0433555 , -0.0433555 ,\n",
       "        -0.06137164, -0.0433555 , -0.08695652, -0.08695652, -0.08695652,\n",
       "        -0.0433555 , -0.13105561, -0.13827675, -0.13827675, -0.0433555 ,\n",
       "        -0.06137164, -0.0433555 , -0.07523548, -0.1815096 , -0.0433555 ,\n",
       "        -0.0433555 , -0.0433555 , -0.07523548, -0.15811388, -0.3145935 ,\n",
       "        -0.0433555 , -0.08695652, -0.07523548, -0.06137164, -0.0433555 ,\n",
       "         1.38873015, -0.0433555 , -0.0433555 , -0.06137164, -0.0433555 ,\n",
       "        -0.0433555 , -0.0433555 , -0.0433555 , -0.0433555 , -0.0433555 ,\n",
       "        -0.0433555 , -0.0433555 , -0.39836623, -0.0433555 , -0.1815096 ,\n",
       "        -0.0433555 , -0.08695652, -0.08695652, -0.10670145, -0.0433555 ,\n",
       "        -0.0433555 , -0.13105561, -0.0433555 , -0.0433555 , -0.0433555 ,\n",
       "        -0.0433555 , -0.07523548, -0.4386271 , -0.0433555 , -0.06137164,\n",
       "        -0.0433555 , -0.0433555 , -0.89480483, -0.0433555 , -0.0433555 ,\n",
       "         1.42422228, -0.0433555 , -0.0433555 , -0.0433555 , -0.0433555 ,\n",
       "        -0.0433555 , -0.0433555 , -0.0433555 , -0.0433555 , -0.0433555 ],\n",
       "       [-0.09358885, -0.14499604, -0.0433555 , -0.0433555 , -0.0433555 ,\n",
       "        -0.06137164, -0.07523548, -0.0433555 , -0.06137164, -0.06137164,\n",
       "        -0.0433555 , -0.0433555 , -0.19226279, -0.06137164, -0.09731237,\n",
       "        -0.0433555 , -0.11536024, -0.07523548, -0.0433555 , -0.0433555 ,\n",
       "        -0.15176505, -0.0433555 , -0.13105561, -0.0433555 , -0.0433555 ,\n",
       "        -0.08695652, -0.0433555 , -0.0433555 , -0.0433555 , -0.0433555 ,\n",
       "        -0.06137164, -0.0433555 , -0.08695652, -0.08695652, -0.08695652,\n",
       "        -0.0433555 , -0.13105561, -0.13827675, -0.13827675, -0.0433555 ,\n",
       "        -0.06137164, -0.0433555 , -0.07523548, -0.1815096 , -0.0433555 ,\n",
       "        -0.0433555 , -0.0433555 , -0.07523548, -0.15811388, -0.3145935 ,\n",
       "        -0.0433555 , -0.08695652, -0.07523548, -0.06137164, -0.0433555 ,\n",
       "         1.38873015, -0.0433555 , -0.0433555 , -0.06137164, -0.0433555 ,\n",
       "        -0.0433555 , -0.0433555 , -0.0433555 , -0.0433555 , -0.0433555 ,\n",
       "        -0.0433555 , -0.0433555 , -0.39836623, -0.0433555 , -0.1815096 ,\n",
       "        -0.0433555 , -0.08695652, -0.08695652, -0.10670145, -0.0433555 ,\n",
       "        -0.0433555 , -0.13105561, -0.0433555 , -0.0433555 , -0.0433555 ,\n",
       "        -0.0433555 , -0.07523548, -0.4386271 , -0.0433555 , -0.06137164,\n",
       "        -0.0433555 , -0.0433555 , -0.89480483, -0.0433555 , -0.0433555 ,\n",
       "         1.42422228, -0.0433555 , -0.0433555 , -0.0433555 , -0.0433555 ,\n",
       "        -0.0433555 , -0.0433555 , -0.0433555 , -0.0433555 , -0.0433555 ],\n",
       "       [ 0.52587231,  4.4937636 , -0.0433555 , -0.0433555 , -0.0433555 ,\n",
       "        -0.06137164, -0.07523548, -0.0433555 , -0.06137164, -0.06137164,\n",
       "        -0.0433555 , -0.0433555 , -0.19226279, -0.06137164, -0.09731237,\n",
       "        -0.0433555 , -0.11536024, -0.07523548, -0.0433555 , -0.0433555 ,\n",
       "        -0.15176505, -0.0433555 , -0.13105561, -0.0433555 , -0.0433555 ,\n",
       "        -0.08695652, -0.0433555 , -0.0433555 , -0.0433555 , -0.0433555 ,\n",
       "        -0.06137164, -0.0433555 , -0.08695652, -0.08695652, -0.08695652,\n",
       "        -0.0433555 , -0.13105561, -0.13827675, -0.13827675, -0.0433555 ,\n",
       "        -0.06137164, -0.0433555 , -0.07523548, -0.1815096 , -0.0433555 ,\n",
       "        -0.0433555 , -0.0433555 , -0.07523548, -0.15811388, -0.3145935 ,\n",
       "        -0.0433555 , -0.08695652, -0.07523548, -0.06137164, -0.0433555 ,\n",
       "        -0.7200823 , -0.0433555 , -0.0433555 , -0.06137164, -0.0433555 ,\n",
       "        -0.0433555 , -0.0433555 , -0.0433555 , -0.0433555 , -0.0433555 ,\n",
       "        -0.0433555 , -0.0433555 , -0.39836623, -0.0433555 ,  5.50935034,\n",
       "        -0.0433555 , -0.08695652, -0.08695652, -0.10670145, -0.0433555 ,\n",
       "        -0.0433555 , -0.13105561, -0.0433555 , -0.0433555 , -0.0433555 ,\n",
       "        -0.0433555 , -0.07523548, -0.4386271 , -0.0433555 , -0.06137164,\n",
       "        -0.0433555 , -0.0433555 , -0.89480483, -0.0433555 , -0.0433555 ,\n",
       "         1.42422228, -0.0433555 , -0.0433555 , -0.0433555 , -0.0433555 ,\n",
       "        -0.0433555 , -0.0433555 , -0.0433555 , -0.0433555 , -0.0433555 ],\n",
       "       [-0.11635442, -0.15255408, -0.0433555 , -0.0433555 , -0.0433555 ,\n",
       "        -0.06137164, -0.07523548, -0.0433555 , -0.06137164, -0.06137164,\n",
       "        -0.0433555 , -0.0433555 , -0.19226279, -0.06137164, -0.09731237,\n",
       "        -0.0433555 , -0.11536024, -0.07523548, -0.0433555 , -0.0433555 ,\n",
       "        -0.15176505, -0.0433555 , -0.13105561, -0.0433555 , -0.0433555 ,\n",
       "        -0.08695652, -0.0433555 , -0.0433555 , -0.0433555 , -0.0433555 ,\n",
       "        -0.06137164, -0.0433555 , -0.08695652, -0.08695652, -0.08695652,\n",
       "        -0.0433555 , -0.13105561, -0.13827675, -0.13827675, -0.0433555 ,\n",
       "        -0.06137164, -0.0433555 , -0.07523548, -0.1815096 , -0.0433555 ,\n",
       "        -0.0433555 , -0.0433555 , -0.07523548, -0.15811388,  3.17870519,\n",
       "        -0.0433555 , -0.08695652, -0.07523548, -0.06137164, -0.0433555 ,\n",
       "        -0.7200823 , -0.0433555 , -0.0433555 , -0.06137164, -0.0433555 ,\n",
       "        -0.0433555 , -0.0433555 , -0.0433555 , -0.0433555 , -0.0433555 ,\n",
       "        -0.0433555 , -0.0433555 , -0.39836623, -0.0433555 , -0.1815096 ,\n",
       "        -0.0433555 , -0.08695652, -0.08695652, -0.10670145, -0.0433555 ,\n",
       "        -0.0433555 , -0.13105561, -0.0433555 , -0.0433555 , -0.0433555 ,\n",
       "        -0.0433555 , -0.07523548, -0.4386271 , -0.0433555 , -0.06137164,\n",
       "        -0.0433555 , -0.0433555 ,  1.11756214, -0.0433555 , -0.0433555 ,\n",
       "        -0.70213759, -0.0433555 , -0.0433555 , -0.0433555 , -0.0433555 ,\n",
       "        -0.0433555 , -0.0433555 , -0.0433555 , -0.0433555 , -0.0433555 ],\n",
       "       [-0.11438445, -0.15286468, -0.0433555 , -0.0433555 , -0.0433555 ,\n",
       "        -0.06137164, -0.07523548, -0.0433555 , -0.06137164, -0.06137164,\n",
       "        -0.0433555 , -0.0433555 , -0.19226279, -0.06137164, -0.09731237,\n",
       "        -0.0433555 , -0.11536024, -0.07523548, -0.0433555 , -0.0433555 ,\n",
       "        -0.15176505, -0.0433555 ,  7.63034876, -0.0433555 , -0.0433555 ,\n",
       "        -0.08695652, -0.0433555 , -0.0433555 , -0.0433555 , -0.0433555 ,\n",
       "        -0.06137164, -0.0433555 , -0.08695652, -0.08695652, -0.08695652,\n",
       "        -0.0433555 , -0.13105561, -0.13827675, -0.13827675, -0.0433555 ,\n",
       "        -0.06137164, -0.0433555 , -0.07523548, -0.1815096 , -0.0433555 ,\n",
       "        -0.0433555 , -0.0433555 , -0.07523548, -0.15811388, -0.3145935 ,\n",
       "        -0.0433555 , -0.08695652, -0.07523548, -0.06137164, -0.0433555 ,\n",
       "        -0.7200823 , -0.0433555 , -0.0433555 , -0.06137164, -0.0433555 ,\n",
       "        -0.0433555 , -0.0433555 , -0.0433555 , -0.0433555 , -0.0433555 ,\n",
       "        -0.0433555 , -0.0433555 , -0.39836623, -0.0433555 , -0.1815096 ,\n",
       "        -0.0433555 , -0.08695652, -0.08695652, -0.10670145, -0.0433555 ,\n",
       "        -0.0433555 , -0.13105561, -0.0433555 , -0.0433555 , -0.0433555 ,\n",
       "        -0.0433555 , -0.07523548, -0.4386271 , -0.0433555 , -0.06137164,\n",
       "        -0.0433555 , -0.0433555 ,  1.11756214, -0.0433555 , -0.0433555 ,\n",
       "        -0.70213759, -0.0433555 , -0.0433555 , -0.0433555 , -0.0433555 ,\n",
       "        -0.0433555 , -0.0433555 , -0.0433555 , -0.0433555 , -0.0433555 ]])"
      ]
     },
     "execution_count": 14,
     "metadata": {},
     "output_type": "execute_result"
    }
   ],
   "source": [
    "# Standardize data with scaling\n",
    "scaler = StandardScaler()\n",
    "scaled_crypto_df = scaler.fit_transform(X)\n",
    "scaled_crypto_df[0:5]"
   ]
  },
  {
   "cell_type": "markdown",
   "metadata": {},
   "source": [
    "Step 2: Dimensionality Reduction with PCA and t-SNE"
   ]
  },
  {
   "cell_type": "code",
   "execution_count": 15,
   "metadata": {},
   "outputs": [
    {
     "data": {
      "text/plain": [
       "array([[-0.34658294,  0.50386635, -0.43808814],\n",
       "       [-0.3299274 ,  0.50366994, -0.43868593],\n",
       "       [ 2.30389214,  1.11886107, -0.5476851 ],\n",
       "       ...,\n",
       "       [ 0.33111227, -1.88043869,  0.42074348],\n",
       "       [-0.12525605, -1.70121875,  0.48328454],\n",
       "       [-0.3025434 ,  0.65963258, -0.29336825]])"
      ]
     },
     "execution_count": 15,
     "metadata": {},
     "output_type": "execute_result"
    }
   ],
   "source": [
    "# PCA to reduce dimensions\n",
    "pca = PCA(n_components=3)\n",
    "pca_crypto = pca.fit_transform(scaled_crypto_df)\n",
    "pca_crypto"
   ]
  },
  {
   "cell_type": "code",
   "execution_count": 16,
   "metadata": {},
   "outputs": [
    {
     "data": {
      "text/html": [
       "<div>\n",
       "<style scoped>\n",
       "    .dataframe tbody tr th:only-of-type {\n",
       "        vertical-align: middle;\n",
       "    }\n",
       "\n",
       "    .dataframe tbody tr th {\n",
       "        vertical-align: top;\n",
       "    }\n",
       "\n",
       "    .dataframe thead th {\n",
       "        text-align: right;\n",
       "    }\n",
       "</style>\n",
       "<table border=\"1\" class=\"dataframe\">\n",
       "  <thead>\n",
       "    <tr style=\"text-align: right;\">\n",
       "      <th></th>\n",
       "      <th>PC 1</th>\n",
       "      <th>PC 2</th>\n",
       "      <th>PC 3</th>\n",
       "    </tr>\n",
       "  </thead>\n",
       "  <tbody>\n",
       "    <tr>\n",
       "      <th>42</th>\n",
       "      <td>-0.346583</td>\n",
       "      <td>0.503866</td>\n",
       "      <td>-0.438088</td>\n",
       "    </tr>\n",
       "    <tr>\n",
       "      <th>404</th>\n",
       "      <td>-0.329927</td>\n",
       "      <td>0.503670</td>\n",
       "      <td>-0.438686</td>\n",
       "    </tr>\n",
       "    <tr>\n",
       "      <th>1337</th>\n",
       "      <td>2.303892</td>\n",
       "      <td>1.118861</td>\n",
       "      <td>-0.547685</td>\n",
       "    </tr>\n",
       "    <tr>\n",
       "      <th>BTC</th>\n",
       "      <td>-0.139058</td>\n",
       "      <td>-1.033734</td>\n",
       "      <td>0.163515</td>\n",
       "    </tr>\n",
       "    <tr>\n",
       "      <th>ETH</th>\n",
       "      <td>-0.144667</td>\n",
       "      <td>-1.567026</td>\n",
       "      <td>0.337685</td>\n",
       "    </tr>\n",
       "  </tbody>\n",
       "</table>\n",
       "</div>"
      ],
      "text/plain": [
       "          PC 1      PC 2      PC 3\n",
       "42   -0.346583  0.503866 -0.438088\n",
       "404  -0.329927  0.503670 -0.438686\n",
       "1337  2.303892  1.118861 -0.547685\n",
       "BTC  -0.139058 -1.033734  0.163515\n",
       "ETH  -0.144667 -1.567026  0.337685"
      ]
     },
     "execution_count": 16,
     "metadata": {},
     "output_type": "execute_result"
    }
   ],
   "source": [
    "# Create a df for three principal components\n",
    "pca_crypto_df = pd.DataFrame(pca_crypto, columns=[\"PC 1\", \"PC 2\", \"PC 3\"], index=crypto_names_df.index)\n",
    "pca_crypto_df.head()"
   ]
  },
  {
   "cell_type": "code",
   "execution_count": 17,
   "metadata": {},
   "outputs": [],
   "source": [
    "# Initialize t-SNE model\n",
    "tsne = TSNE(learning_rate=35)"
   ]
  },
  {
   "cell_type": "code",
   "execution_count": 18,
   "metadata": {},
   "outputs": [],
   "source": [
    "# Reduce Dimensions\n",
    "tsne_features = tsne.fit_transform(pca_crypto_df)"
   ]
  },
  {
   "cell_type": "code",
   "execution_count": 19,
   "metadata": {},
   "outputs": [
    {
     "data": {
      "text/plain": [
       "(533, 2)"
      ]
     },
     "execution_count": 19,
     "metadata": {},
     "output_type": "execute_result"
    }
   ],
   "source": [
    "tsne_features.shape"
   ]
  },
  {
   "cell_type": "code",
   "execution_count": 20,
   "metadata": {},
   "outputs": [],
   "source": [
    "# Prepare for plotting\n",
    "\n",
    "pca_crypto_df['x'] = tsne_features[:,0]\n",
    "\n",
    "pca_crypto_df['y'] = tsne_features[:,1]"
   ]
  },
  {
   "cell_type": "code",
   "execution_count": 21,
   "metadata": {},
   "outputs": [
    {
     "data": {
      "image/png": "[encoded data removed]",
      "text/plain": [
       "<Figure size 432x288 with 1 Axes>"
      ]
     },
     "metadata": {
      "needs_background": "light"
     },
     "output_type": "display_data"
    }
   ],
   "source": [
    "# Scatter plot to check for clusters\n",
    "plt.scatter(pca_crypto_df['x'], pca_crypto_df['y'])\n",
    "plt.show()"
   ]
  },
  {
   "cell_type": "markdown",
   "metadata": {},
   "source": [
    "Cluster Analysis with K-Means"
   ]
  },
  {
   "cell_type": "code",
   "execution_count": 22,
   "metadata": {},
   "outputs": [
    {
     "name": "stderr",
     "output_type": "stream",
     "text": [
      "C:\\Users\\cchic\\anaconda3\\lib\\site-packages\\sklearn\\cluster\\_kmeans.py:881: UserWarning: KMeans is known to have a memory leak on Windows with MKL, when there are less chunks than available threads. You can avoid it by setting the environment variable OMP_NUM_THREADS=3.\n",
      "  warnings.warn(\n"
     ]
    },
    {
     "data": {
      "image/png": "[encoded data removed]",
      "text/plain": [
       "<Figure size 432x288 with 1 Axes>"
      ]
     },
     "metadata": {
      "needs_background": "light"
     },
     "output_type": "display_data"
    }
   ],
   "source": [
    "# Create an elbow plot with K-Means and determine inertia with for loop\n",
    "inertia = []\n",
    "\n",
    "k = list(range(1,11))\n",
    "for i in k:\n",
    "    km = KMeans(n_clusters=i, random_state=0)\n",
    "    km.fit(pca_crypto_df)\n",
    "    inertia.append(km.inertia_)\n",
    "    \n",
    "elbow_data = {\"k\": k, \"inertia\": inertia}\n",
    "df_elbow = pd.DataFrame(elbow_data)\n",
    "\n",
    "plt.plot(df_elbow['k'], df_elbow['inertia'])\n",
    "plt.xticks(range(1,11))\n",
    "plt.xlabel('Number of clusters')\n",
    "plt.ylabel('Inertia')\n",
    "plt.show()\n"
   ]
  },
  {
   "cell_type": "markdown",
   "metadata": {},
   "source": [
    "Findings: Based on my findings the cryptocurrencies can only be loosely clustered together. Looking at the scatter plot with pca and tsne, there are 7 loose clusters of curriencies. This appears to be supported by the K-means elbow plot as the elbow levels off around 7.  "
   ]
  }
 ],
 "metadata": {
  "kernelspec": {
   "display_name": "Python 3",
   "language": "python",
   "name": "python3"
  },
  "language_info": {
   "codemirror_mode": {
    "name": "ipython",
    "version": 3
   },
   "file_extension": ".py",
   "mimetype": "text/x-python",
   "name": "python",
   "nbconvert_exporter": "python",
   "pygments_lexer": "ipython3",
   "version": "3.8.8"
  }
 },
 "nbformat": 4,
 "nbformat_minor": 4
}
